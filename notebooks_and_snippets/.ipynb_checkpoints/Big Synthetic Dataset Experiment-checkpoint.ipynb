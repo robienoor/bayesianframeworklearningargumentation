{
 "cells": [
  {
   "cell_type": "code",
   "execution_count": 190,
   "metadata": {},
   "outputs": [],
   "source": [
    "import random\n",
    "import numpy as np\n",
    "import sys \n",
    "import csv\n",
    "from scipy import stats\n",
    "sys.path.append('..')\n",
    "import math\n",
    "import pandas as pd\n",
    "from prior import prior\n",
    "from liklihood import liklihood\n",
    "from posterior import posterior\n",
    "import graph_image_generator\n",
    "import utilities\n",
    "import matplotlib.pyplot as plt\n",
    "from matplotlib import rc\n",
    "import pylab as pl\n",
    "\n",
    "finalGraphs = []"
   ]
  },
  {
   "cell_type": "code",
   "execution_count": 2,
   "metadata": {
    "collapsed": true
   },
   "outputs": [],
   "source": [
    "prior_distribution_rating = 10"
   ]
  },
  {
   "cell_type": "code",
   "execution_count": 3,
   "metadata": {},
   "outputs": [],
   "source": [
    "p_G_2args = prior(['a'], ['c'])\n",
    "p_G_2args_prior_distribution =  p_G_2args.getDistribution(prior_distribution_rating)\n",
    "\n",
    "p_G_3args = prior(['a','b'], ['c'])\n",
    "p_G_3args_prior_distribution =  p_G_3args.getDistribution(prior_distribution_rating)\n",
    "\n",
    "p_G_3args_2 = prior(['a','d'], ['c'])\n",
    "p_G_3args_2_prior_distribution =  p_G_3args_2.getDistribution(prior_distribution_rating)\n",
    "\n",
    "p_G_4args = prior(['a','d','b'], ['c'])\n",
    "p_G_4args_prior_distribution =  p_G_4args.getDistribution(prior_distribution_rating)\n",
    "\n",
    "p_G_5args = prior(['a','d','b'], ['c','e'])\n",
    "p_G_5args_prior_distribution =  p_G_5args.getDistribution(prior_distribution_rating)"
   ]
  },
  {
   "cell_type": "code",
   "execution_count": 4,
   "metadata": {
    "collapsed": true
   },
   "outputs": [],
   "source": [
    "all_p_g = [p_G_2args, p_G_3args, p_G_3args_2, p_G_4args, p_G_5args]\n",
    "all_prior_distribs = [p_G_2args_prior_distribution, \n",
    "                     p_G_3args_prior_distribution,\n",
    "                     p_G_3args_2_prior_distribution,\n",
    "                     p_G_4args_prior_distribution,\n",
    "                     p_G_5args_prior_distribution]\n",
    "index_p_G_s = list(range(len(all_p_g)))"
   ]
  },
  {
   "cell_type": "code",
   "execution_count": 5,
   "metadata": {
    "collapsed": true
   },
   "outputs": [],
   "source": [
    "def check_attack_holds(pos_args, neg_args, always_true, graph):\n",
    "    \n",
    "    all_args = pos_args + neg_args\n",
    "    appropriate_graph = []\n",
    "    \n",
    "    for t in always_true:\n",
    "        \n",
    "        if t[0][0] not in all_args or t[0][1] not in all_args:\n",
    "            appropriate_graph.append(False)\n",
    "            continue\n",
    "            \n",
    "        attacker = all_args.index(t[0][0])\n",
    "        attacked = all_args.index(t[0][1])\n",
    "        \n",
    "        if len(t) == 1:\n",
    "            if graph[attacker, attacked] == 1 and graph[attacked, attacker] == 0:\n",
    "                appropriate_graph.append(True)\n",
    "            else:\n",
    "                appropriate_graph.append(False)\n",
    "            continue\n",
    "            \n",
    "        if len(t) == 2:\n",
    "            if graph[attacker, attacked] == 1 and graph[attacked, attacker] == 1:\n",
    "                appropriate_graph.append(True)\n",
    "            else:\n",
    "                appropriate_graph.append(False)\n",
    "            continue\n",
    "            \n",
    "    return all(appropriate_graph)"
   ]
  },
  {
   "cell_type": "code",
   "execution_count": null,
   "metadata": {
    "collapsed": true
   },
   "outputs": [],
   "source": [
    "def generateSyntheticObservationsShort(target_no_observations, appearance, always_true, target_distribution):\n",
    "    \n",
    "    relevant_observations = []\n",
    "    irrelevant_observations = []\n",
    "    \n",
    "    # No of relevant observations needed \n",
    "    while len(relevant_observations) + len(irrelevant_observations)  < target_no_observations:\n",
    "        choice = random.choice(index_p_G_s)\n",
    "        "
   ]
  },
  {
   "cell_type": "code",
   "execution_count": 455,
   "metadata": {},
   "outputs": [
    {
     "data": {
      "text/plain": [
       "array([[0., 0., 1.],\n",
       "       [0., 0., 1.],\n",
       "       [0., 0., 0.]])"
      ]
     },
     "execution_count": 455,
     "metadata": {},
     "output_type": "execute_result"
    }
   ],
   "source": [
    "all_p_g[1].arg_matrices[0]"
   ]
  },
  {
   "cell_type": "code",
   "execution_count": 474,
   "metadata": {},
   "outputs": [
    {
     "name": "stdout",
     "output_type": "stream",
     "text": [
      "0\n",
      "False\n",
      "1\n",
      "True\n",
      "2\n",
      "False\n",
      "3\n",
      "False\n",
      "4\n",
      "False\n",
      "5\n",
      "False\n",
      "6\n",
      "False\n",
      "7\n",
      "False\n",
      "8\n",
      "False\n",
      "9\n",
      "False\n",
      "10\n",
      "False\n",
      "11\n",
      "False\n",
      "12\n",
      "False\n",
      "13\n",
      "False\n",
      "14\n",
      "False\n",
      "15\n",
      "False\n"
     ]
    }
   ],
   "source": [
    "for i in range(0,16):\n",
    "    print(i)\n",
    "    print(check_attack_holds(all_p_g[1].pos_args, all_p_g[1].neg_args, \n",
    "                       [[('a', 'c')], [('b', 'c'),('c','b')]], \n",
    "                       all_p_g[1].arg_matrices[i]))"
   ]
  },
  {
   "cell_type": "code",
   "execution_count": 6,
   "metadata": {
    "collapsed": true
   },
   "outputs": [],
   "source": [
    "def generateSyntheticObservations(target_no_observations, all_p_g, all_prior_distribs, degree_of_appearance, always_true):\n",
    "\n",
    "    observations = []\n",
    "    index_p_G_s = list(range(len(all_p_g)))\n",
    "\n",
    "    while len(observations) < target_no_observations:\n",
    "        choice = random.choice(index_p_G_s) # choose an index from the list, index corresponds to one of the graph spaces\n",
    "        chosen_prior = all_prior_distribs[choice] # store the prior for the graph space\n",
    "\n",
    "\n",
    "        possible_graphs = []\n",
    "        possible_graphs_probabilities = []\n",
    "\n",
    "        appear_draw = random.uniform(0, 1)\n",
    "        if appear_draw <= degree_of_appearance:\n",
    "            for graph_no, graph in enumerate((all_p_g[choice]).arg_matrices):\n",
    "                result = check_attack_holds(all_p_g[choice].pos_args, all_p_g[choice].neg_args, always_true, graph)\n",
    "                if result:            \n",
    "                    possible_graphs.append(graph)\n",
    "                    possible_graphs_probabilities.append(chosen_prior[graph_no])\n",
    "\n",
    "            if len(possible_graphs) ==0:\n",
    "                continue\n",
    "            possible_graphs_probabilities = possible_graphs_probabilities / np.sum(possible_graphs_probabilities)\n",
    "\n",
    "        else:\n",
    "            possible_graphs = (all_p_g[choice]).arg_matrices\n",
    "            possible_graphs_probabilities = chosen_prior\n",
    "\n",
    "\n",
    "        indices = list(range(len(possible_graphs_probabilities)))\n",
    "        custm = stats.rv_discrete(name='custm', values=(indices, possible_graphs_probabilities))\n",
    "        chosen_graph = custm.rvs(size=1)[0]\n",
    "\n",
    "        observation = {}\n",
    "        observation['pos_args'] = all_p_g[choice].pos_args\n",
    "        observation['neg_args'] = all_p_g[choice].neg_args\n",
    "        observation['attacks'] = utilities.convertArgMtrxToAttacks(observation['pos_args'], \n",
    "                                                                   observation['neg_args'],\n",
    "                                                                  possible_graphs[chosen_graph])\n",
    "\n",
    "        observation['rating'] = 10\n",
    "\n",
    "        observations.append(observation)\n",
    "        \n",
    "\n",
    "    return observations"
   ]
  },
  {
   "cell_type": "code",
   "execution_count": 479,
   "metadata": {
    "collapsed": true
   },
   "outputs": [],
   "source": [
    "def runSingleSimulation(always_true, noObservations, appearance):\n",
    "\n",
    "    graph_probabilities = []\n",
    "    for i in range(150):\n",
    "        observations = generateSyntheticObservations(noObservations, all_p_g, all_prior_distribs, appearance, always_true)\n",
    "\n",
    "        target_distribution = {}\n",
    "        target_distribution['pos_args'] = ['a','b']\n",
    "        target_distribution['neg_args'] = ['c']\n",
    "        target_distribution['rating'] = 10\n",
    "\n",
    "        p_G = prior(target_distribution['pos_args'], target_distribution['neg_args'])\n",
    "\n",
    "        # generate the prior distribution\n",
    "        target_prior_distribution = p_G.getDistribution(target_distribution['rating'])\n",
    "\n",
    "        p_G.rating = 10\n",
    "        all_updates_distribution = []\n",
    "\n",
    "        current_prior = target_prior_distribution\n",
    "\n",
    "        for synthetic_observation in observations:\n",
    "\n",
    "            p_G_T = liklihood(p_G, synthetic_observation)\n",
    "            liklihood_distribution = p_G_T.buildLiklihoodDistribution()\n",
    "\n",
    "            p_T_G = posterior(current_prior, liklihood_distribution)\n",
    "            posterior_distribution = p_T_G.buildPosteriorDistribution()\n",
    "\n",
    "            all_updates_distribution.append(posterior_distribution)\n",
    "\n",
    "            current_prior = posterior_distribution\n",
    "\n",
    "\n",
    "        graph_probabilities.append(current_prior[0])\n",
    "\n",
    "    return graph_probabilities"
   ]
  },
  {
   "cell_type": "code",
   "execution_count": 439,
   "metadata": {
    "collapsed": true
   },
   "outputs": [],
   "source": [
    "graph_probabilities_dict = {}"
   ]
  },
  {
   "cell_type": "code",
   "execution_count": 440,
   "metadata": {},
   "outputs": [],
   "source": [
    "always_true = [[('a', 'c')], [('c', 'b')], [('b', 'c')]]\n",
    "noObservations = 25\n",
    "appearance = 0.75\n",
    "graph_probabilities = runSingleSimulation(always_true, noObservations, appearance)"
   ]
  },
  {
   "cell_type": "code",
   "execution_count": 441,
   "metadata": {
    "collapsed": true
   },
   "outputs": [],
   "source": [
    "graph_probabilities_dict[float(appearance*10)] = graph_probabilities"
   ]
  },
  {
   "cell_type": "code",
   "execution_count": 442,
   "metadata": {},
   "outputs": [
    {
     "data": {
      "image/png": "[encoded data removed]",
      "text/plain": [
       "<matplotlib.figure.Figure at 0x1a205fef60>"
      ]
     },
     "metadata": {},
     "output_type": "display_data"
    }
   ],
   "source": [
    "h = sorted(graph_probabilities_dict[float(appearance*10)])  #sorted\n",
    "fit = stats.norm.pdf(h, np.mean(h), np.std(h))  #this is a fitting indeed\n",
    "\n",
    "plt.plot(h,fit)\n",
    "      #use this to draw histogram of your data\n",
    "\n",
    "    \n",
    "plt.show()"
   ]
  },
  {
   "cell_type": "code",
   "execution_count": 446,
   "metadata": {},
   "outputs": [
    {
     "data": {
      "text/plain": [
       "[{'attacks': [('a', 'c'), ('c', 'b')],\n",
       "  'neg_args': ['c'],\n",
       "  'pos_args': ['a', 'b'],\n",
       "  'rating': 10},\n",
       " {'attacks': [('a', 'c'), ('d', 'c'), ('c', 'd'), ('c', 'b')],\n",
       "  'neg_args': ['c'],\n",
       "  'pos_args': ['a', 'd', 'b'],\n",
       "  'rating': 10},\n",
       " {'attacks': [('a', 'c'), ('d', 'c'), ('c', 'b')],\n",
       "  'neg_args': ['c'],\n",
       "  'pos_args': ['a', 'd', 'b'],\n",
       "  'rating': 10},\n",
       " {'attacks': [('a', 'c'), ('d', 'c'), ('c', 'd'), ('c', 'b')],\n",
       "  'neg_args': ['c'],\n",
       "  'pos_args': ['a', 'd', 'b'],\n",
       "  'rating': 10},\n",
       " {'attacks': [('a', 'c'),\n",
       "   ('d', 'c'),\n",
       "   ('b', 'e'),\n",
       "   ('c', 'd'),\n",
       "   ('c', 'b'),\n",
       "   ('e', 'a')],\n",
       "  'neg_args': ['c', 'e'],\n",
       "  'pos_args': ['a', 'd', 'b'],\n",
       "  'rating': 10},\n",
       " {'attacks': [('a', 'c'), ('c', 'd'), ('c', 'b')],\n",
       "  'neg_args': ['c'],\n",
       "  'pos_args': ['a', 'd', 'b'],\n",
       "  'rating': 10},\n",
       " {'attacks': [('a', 'c'), ('d', 'c'), ('c', 'b')],\n",
       "  'neg_args': ['c'],\n",
       "  'pos_args': ['a', 'd', 'b'],\n",
       "  'rating': 10},\n",
       " {'attacks': [('a', 'c'), ('c', 'b')],\n",
       "  'neg_args': ['c'],\n",
       "  'pos_args': ['a', 'd', 'b'],\n",
       "  'rating': 10},\n",
       " {'attacks': [('a', 'c'), ('d', 'c'), ('b', 'e'), ('c', 'b')],\n",
       "  'neg_args': ['c', 'e'],\n",
       "  'pos_args': ['a', 'd', 'b'],\n",
       "  'rating': 10},\n",
       " {'attacks': [('a', 'c'),\n",
       "   ('d', 'c'),\n",
       "   ('d', 'e'),\n",
       "   ('b', 'e'),\n",
       "   ('c', 'd'),\n",
       "   ('c', 'b'),\n",
       "   ('e', 'd')],\n",
       "  'neg_args': ['c', 'e'],\n",
       "  'pos_args': ['a', 'd', 'b'],\n",
       "  'rating': 10},\n",
       " {'attacks': [('a', 'c'), ('c', 'b')],\n",
       "  'neg_args': ['c'],\n",
       "  'pos_args': ['a', 'b'],\n",
       "  'rating': 10},\n",
       " {'attacks': [('a', 'c'), ('c', 'b')],\n",
       "  'neg_args': ['c'],\n",
       "  'pos_args': ['a', 'b'],\n",
       "  'rating': 10},\n",
       " {'attacks': [('a', 'c'), ('d', 'c'), ('d', 'e'), ('b', 'e'), ('c', 'b')],\n",
       "  'neg_args': ['c', 'e'],\n",
       "  'pos_args': ['a', 'd', 'b'],\n",
       "  'rating': 10},\n",
       " {'attacks': [('a', 'c')],\n",
       "  'neg_args': ['c'],\n",
       "  'pos_args': ['a', 'd'],\n",
       "  'rating': 10},\n",
       " {'attacks': [('a', 'e'),\n",
       "   ('d', 'c'),\n",
       "   ('d', 'e'),\n",
       "   ('b', 'c'),\n",
       "   ('b', 'e'),\n",
       "   ('c', 'b'),\n",
       "   ('e', 'a'),\n",
       "   ('e', 'b')],\n",
       "  'neg_args': ['c', 'e'],\n",
       "  'pos_args': ['a', 'd', 'b'],\n",
       "  'rating': 10},\n",
       " {'attacks': [('a', 'c'), ('c', 'b')],\n",
       "  'neg_args': ['c'],\n",
       "  'pos_args': ['a', 'b'],\n",
       "  'rating': 10},\n",
       " {'attacks': [('a', 'c'),\n",
       "   ('d', 'c'),\n",
       "   ('d', 'e'),\n",
       "   ('b', 'e'),\n",
       "   ('c', 'b'),\n",
       "   ('e', 'a')],\n",
       "  'neg_args': ['c', 'e'],\n",
       "  'pos_args': ['a', 'd', 'b'],\n",
       "  'rating': 10},\n",
       " {'attacks': [('a', 'c'), ('d', 'c'), ('c', 'b')],\n",
       "  'neg_args': ['c'],\n",
       "  'pos_args': ['a', 'd', 'b'],\n",
       "  'rating': 10},\n",
       " {'attacks': [('a', 'c'),\n",
       "   ('d', 'c'),\n",
       "   ('d', 'e'),\n",
       "   ('b', 'e'),\n",
       "   ('c', 'd'),\n",
       "   ('c', 'b')],\n",
       "  'neg_args': ['c', 'e'],\n",
       "  'pos_args': ['a', 'd', 'b'],\n",
       "  'rating': 10},\n",
       " {'attacks': [('a', 'c'), ('c', 'b')],\n",
       "  'neg_args': ['c'],\n",
       "  'pos_args': ['a', 'd', 'b'],\n",
       "  'rating': 10}]"
      ]
     },
     "execution_count": 446,
     "metadata": {},
     "output_type": "execute_result"
    }
   ],
   "source": [
    "observations"
   ]
  },
  {
   "cell_type": "code",
   "execution_count": 437,
   "metadata": {},
   "outputs": [
    {
     "data": {
      "image/png": "[encoded data removed]",
      "text/plain": [
       "<matplotlib.figure.Figure at 0x1a20b8f240>"
      ]
     },
     "metadata": {},
     "output_type": "display_data"
    }
   ],
   "source": [
    "fig = plt.figure()\n",
    "\n",
    "plt.xlabel('P(G|T)')\n",
    "\n",
    "for key, item in graph_probabilities_dict.items():\n",
    "    if key == 0:\n",
    "        continue \n",
    "\n",
    "    h = sorted(item)\n",
    "\n",
    "    fit = stats.norm.pdf(h, np.mean(h), np.std(h))  #this is a fitting indeed\n",
    "\n",
    "    noise_level = round(1 - key/10, 2)\n",
    "    \n",
    "    plt.plot(h,fit, label='noise='+ str(noise_level))\n",
    "      #use this to draw histogram of your data\n",
    "    plt.legend()\n",
    "plt.show()"
   ]
  },
  {
   "cell_type": "markdown",
   "metadata": {},
   "source": [
    "Save last figure"
   ]
  },
  {
   "cell_type": "code",
   "execution_count": 138,
   "metadata": {
    "collapsed": true
   },
   "outputs": [],
   "source": [
    "# fig.savefig('figures/ultimatesimulation_noise'+ str(noise_level) +'_noobservations' + str(noObservations) +'_150trials.jpeg')"
   ]
  },
  {
   "cell_type": "markdown",
   "metadata": {},
   "source": [
    "# Save agreeable graphs"
   ]
  },
  {
   "cell_type": "code",
   "execution_count": 308,
   "metadata": {
    "collapsed": true
   },
   "outputs": [],
   "source": [
    "finalGraph = {\n",
    "    'target_distribution': target_distribution,\n",
    "    'always_true': always_true,\n",
    "    'noObservations': noObservations,\n",
    "    'appearance': appearance,\n",
    "    'graph_probabilities_dict': graph_probabilities_dict\n",
    "}"
   ]
  },
  {
   "cell_type": "code",
   "execution_count": 309,
   "metadata": {},
   "outputs": [],
   "source": [
    "finalGraphs.append(finalGraph)"
   ]
  },
  {
   "cell_type": "code",
   "execution_count": 310,
   "metadata": {},
   "outputs": [],
   "source": [
    "finalGraphsDF = pd.DataFrame(finalGraphs)"
   ]
  },
  {
   "cell_type": "code",
   "execution_count": 311,
   "metadata": {},
   "outputs": [],
   "source": [
    "finalGraphsDF.to_json('final_distributions.json')"
   ]
  },
  {
   "cell_type": "code",
   "execution_count": 312,
   "metadata": {},
   "outputs": [
    {
     "data": {
      "text/html": [
       "<div>\n",
       "<style scoped>\n",
       "    .dataframe tbody tr th:only-of-type {\n",
       "        vertical-align: middle;\n",
       "    }\n",
       "\n",
       "    .dataframe tbody tr th {\n",
       "        vertical-align: top;\n",
       "    }\n",
       "\n",
       "    .dataframe thead th {\n",
       "        text-align: right;\n",
       "    }\n",
       "</style>\n",
       "<table border=\"1\" class=\"dataframe\">\n",
       "  <thead>\n",
       "    <tr style=\"text-align: right;\">\n",
       "      <th></th>\n",
       "      <th>target_distribution</th>\n",
       "      <th>always_true</th>\n",
       "      <th>noObservations</th>\n",
       "      <th>appearance</th>\n",
       "      <th>graph_probabilities_dict</th>\n",
       "    </tr>\n",
       "  </thead>\n",
       "  <tbody>\n",
       "    <tr>\n",
       "      <th>0</th>\n",
       "      <td>{'pos_args': ['a', 'b'], 'neg_args': ['c'], 'r...</td>\n",
       "      <td>[[(a, c)], [(b, c)]]</td>\n",
       "      <td>5</td>\n",
       "      <td>0.75</td>\n",
       "      <td>{2.5: [0.18064997287003234, 0.4114465517966976...</td>\n",
       "    </tr>\n",
       "    <tr>\n",
       "      <th>1</th>\n",
       "      <td>{'pos_args': ['a', 'b'], 'neg_args': ['c'], 'r...</td>\n",
       "      <td>[[(a, c)], [(b, c)]]</td>\n",
       "      <td>10</td>\n",
       "      <td>0.25</td>\n",
       "      <td>{7.5: [0.6078066505571506, 0.9463008011132874,...</td>\n",
       "    </tr>\n",
       "  </tbody>\n",
       "</table>\n",
       "</div>"
      ],
      "text/plain": [
       "                                 target_distribution           always_true  \\\n",
       "0  {'pos_args': ['a', 'b'], 'neg_args': ['c'], 'r...  [[(a, c)], [(b, c)]]   \n",
       "1  {'pos_args': ['a', 'b'], 'neg_args': ['c'], 'r...  [[(a, c)], [(b, c)]]   \n",
       "\n",
       "   noObservations  appearance  \\\n",
       "0               5        0.75   \n",
       "1              10        0.25   \n",
       "\n",
       "                            graph_probabilities_dict  \n",
       "0  {2.5: [0.18064997287003234, 0.4114465517966976...  \n",
       "1  {7.5: [0.6078066505571506, 0.9463008011132874,...  "
      ]
     },
     "execution_count": 312,
     "metadata": {},
     "output_type": "execute_result"
    }
   ],
   "source": [
    "finalGraphsDF"
   ]
  },
  {
   "cell_type": "code",
   "execution_count": 329,
   "metadata": {
    "collapsed": true
   },
   "outputs": [],
   "source": [
    "# Work through means of graphs"
   ]
  },
  {
   "cell_type": "code",
   "execution_count": 480,
   "metadata": {
    "collapsed": true
   },
   "outputs": [],
   "source": [
    "def runTrialForGraph():\n",
    "    always_true = [[('a','c')],[('b', 'c')]]\n",
    "    \n",
    "    for noObservations in [5,10,15,20,25]:\n",
    "        graph_probabilities_dict = {}\n",
    "\n",
    "        \n",
    "        for appearance in [0.25,0.5,0.75]:\n",
    "            \n",
    "            graph_probabilities = runSingleSimulation(always_true, noObservations, appearance)\n",
    "            graph_probabilities_dict[float(appearance*10)] = graph_probabilities\n",
    "     \n",
    "        finalGraph = {\n",
    "            'target_distribution': target_distribution,\n",
    "            'always_true': always_true,\n",
    "            'noObservations': noObservations,\n",
    "            'graph_probabilities_dict': graph_probabilities_dict\n",
    "        }\n",
    "        \n",
    "        finalGraphs.append(finalGraph)\n",
    "        \n",
    "        print('completed ', noObservations, 'with ', always_true)"
   ]
  },
  {
   "cell_type": "code",
   "execution_count": null,
   "metadata": {},
   "outputs": [
    {
     "name": "stdout",
     "output_type": "stream",
     "text": [
      "completed  5 with  [[('a', 'c')], [('b', 'c')]]\n"
     ]
    }
   ],
   "source": [
    "runTrialForGraph()"
   ]
  },
  {
   "cell_type": "code",
   "execution_count": 478,
   "metadata": {},
   "outputs": [
    {
     "data": {
      "text/html": [
       "<div>\n",
       "<style scoped>\n",
       "    .dataframe tbody tr th:only-of-type {\n",
       "        vertical-align: middle;\n",
       "    }\n",
       "\n",
       "    .dataframe tbody tr th {\n",
       "        vertical-align: top;\n",
       "    }\n",
       "\n",
       "    .dataframe thead th {\n",
       "        text-align: right;\n",
       "    }\n",
       "</style>\n",
       "<table border=\"1\" class=\"dataframe\">\n",
       "  <thead>\n",
       "    <tr style=\"text-align: right;\">\n",
       "      <th></th>\n",
       "    </tr>\n",
       "  </thead>\n",
       "  <tbody>\n",
       "  </tbody>\n",
       "</table>\n",
       "</div>"
      ],
      "text/plain": [
       "Empty DataFrame\n",
       "Columns: []\n",
       "Index: []"
      ]
     },
     "execution_count": 478,
     "metadata": {},
     "output_type": "execute_result"
    }
   ],
   "source": [
    "finalGraphsDF = pd.DataFrame(finalGraphs)\n",
    "finalGraphsDF"
   ]
  },
  {
   "cell_type": "code",
   "execution_count": null,
   "metadata": {
    "collapsed": true
   },
   "outputs": [],
   "source": [
    "def convertIntoMeanGraph(always_true, appearance):\n",
    "    finalGraphsDF"
   ]
  },
  {
   "cell_type": "code",
   "execution_count": 477,
   "metadata": {},
   "outputs": [
    {
     "name": "stdout",
     "output_type": "stream",
     "text": [
      "0.1560184046961273\n",
      "0.18315095386503452\n",
      "0.17694845346888424\n",
      "0.2018490645824646\n",
      "0.16928945317483912\n"
     ]
    }
   ],
   "source": [
    "for i in finalGraphsDF.iloc[5:10].itertuples():\n",
    "    print(np.mean(i.graph_probabilities_dict[7.5]))\n",
    "    "
   ]
  },
  {
   "cell_type": "code",
   "execution_count": null,
   "metadata": {
    "collapsed": true
   },
   "outputs": [],
   "source": []
  }
 ],
 "metadata": {
  "kernelspec": {
   "display_name": "Python 3",
   "language": "python",
   "name": "python3"
  },
  "language_info": {
   "codemirror_mode": {
    "name": "ipython",
    "version": 3
   },
   "file_extension": ".py",
   "mimetype": "text/x-python",
   "name": "python",
   "nbconvert_exporter": "python",
   "pygments_lexer": "ipython3",
   "version": "3.6.1"
  }
 },
 "nbformat": 4,
 "nbformat_minor": 2
}
