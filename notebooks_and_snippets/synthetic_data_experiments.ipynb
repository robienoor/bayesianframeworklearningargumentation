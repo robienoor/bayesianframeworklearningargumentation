{
 "cells": [
  {
   "cell_type": "code",
   "execution_count": 1,
   "metadata": {},
   "outputs": [
    {
     "name": "stdout",
     "output_type": "stream",
     "text": [
      "[0.05316901 0.05316901 0.07007042 0.05316901 0.05316901 0.05316901\n",
      " 0.05316901 0.05880282 0.07570423 0.05035211 0.09260563 0.07570423\n",
      " 0.09260563 0.05316901 0.05316901 0.05880282]\n",
      "hello\n"
     ]
    }
   ],
   "source": [
    "import random\n",
    "import numpy as np\n",
    "import sys \n",
    "import csv\n",
    "from scipy import stats\n",
    "sys.path.append('..')\n",
    "import math\n",
    "\n",
    "from prior import prior\n",
    "from liklihood import liklihood\n",
    "from posterior import posterior\n",
    "import graph_image_generator\n",
    "import utilities\n",
    "import matplotlib.pyplot as plt\n",
    "from matplotlib import rc\n",
    "import pylab as pl"
   ]
  },
  {
   "cell_type": "code",
   "execution_count": null,
   "metadata": {
    "collapsed": true
   },
   "outputs": [],
   "source": [
    "# Create an artifical set of observations\n",
    "no_of_observations = 100\n",
    "min_graph_size = [1,1] # This is read as the minimum number of pos arguments is 1 and the maximum is 1\n",
    "max_graph_size = [3,3] "
   ]
  },
  {
   "cell_type": "markdown",
   "metadata": {},
   "source": [
    "## Measuring Diversion \n",
    "\n",
    "We first need to define what it means to add noise to probability distribution. We know that the distributions differ primarily in terms of rating. A perfectly coherent distribution is thus one which is conforms to the distribution. i.e one in which the dataset is distributed according to the prior.\n"
   ]
  },
  {
   "cell_type": "code",
   "execution_count": null,
   "metadata": {
    "collapsed": true
   },
   "outputs": [],
   "source": [
    "target_distribution = {}\n",
    "target_distribution['pos_args'] = ['a','b']\n",
    "target_distribution['neg_args'] = ['c']\n",
    "target_distribution['rating'] = 10\n",
    "\n",
    "p_G = prior(target_distribution['pos_args'], target_distribution['neg_args'])\n",
    "\n",
    "# generate the prior distribution\n",
    "target_prior_distribution = p_G.getDistribution(target_distribution['rating'])"
   ]
  },
  {
   "cell_type": "code",
   "execution_count": null,
   "metadata": {
    "collapsed": true
   },
   "outputs": [],
   "source": [
    "# Generate the dataset\n",
    "# Start with the matching rating and matching graph space and closest distribution"
   ]
  },
  {
   "cell_type": "code",
   "execution_count": null,
   "metadata": {
    "collapsed": true
   },
   "outputs": [],
   "source": [
    "dataset_rating = target_distribution['rating']\n",
    "graph_space_pos_args  = target_distribution['pos_args']\n",
    "graph_space_neg_args = target_distribution['neg_args']"
   ]
  },
  {
   "cell_type": "code",
   "execution_count": null,
   "metadata": {
    "collapsed": true
   },
   "outputs": [],
   "source": [
    "observations = []\n",
    "\n",
    "for graph in p_G.arg_matrices:\n",
    "    observation = {}\n",
    "    observation['pos_args'] = target_distribution['pos_args']\n",
    "    observation['neg_args'] = target_distribution['neg_args']\n",
    "    observation['rating'] = target_distribution['rating']\n",
    "    observation['attacks'] = utilities.convertArgMtrxToAttacks(observation['pos_args'], \n",
    "                                                               observation['neg_args'],\n",
    "                                                              graph)\n",
    "    \n",
    "    observations.append(observation)\n",
    "    \n",
    "\n"
   ]
  },
  {
   "cell_type": "code",
   "execution_count": null,
   "metadata": {
    "collapsed": true
   },
   "outputs": [],
   "source": [
    "target_quantities = (np.array(target_prior_distribution) * 100).astype(int)"
   ]
  },
  {
   "cell_type": "code",
   "execution_count": null,
   "metadata": {
    "collapsed": true
   },
   "outputs": [],
   "source": [
    "synthetic_dataset = []\n",
    "for idx, observation in enumerate(observations):\n",
    "    synthetic_dataset.extend([observation]*1)"
   ]
  },
  {
   "cell_type": "code",
   "execution_count": null,
   "metadata": {
    "collapsed": true
   },
   "outputs": [],
   "source": [
    "# Now construct posterior iteratively \n",
    "p_G.rating = 10\n",
    "all_updates_distribution = []\n",
    "\n",
    "current_prior = target_prior_distribution\n",
    "\n",
    "for synthetic_observation in synthetic_dataset:\n",
    "\n",
    "    p_G_T = liklihood(p_G, synthetic_observation)\n",
    "    liklihood_distribution = p_G_T.buildLiklihoodDistribution()\n",
    "    \n",
    "    p_T_G = posterior(current_prior, liklihood_distribution)\n",
    "    posterior_distribution = p_T_G.buildPosteriorDistribution()\n",
    "    \n",
    "    all_updates_distribution.append(posterior_distribution)\n",
    "    \n",
    "    current_prior = posterior_distribution"
   ]
  },
  {
   "cell_type": "code",
   "execution_count": null,
   "metadata": {
    "collapsed": true
   },
   "outputs": [],
   "source": [
    "current_prior"
   ]
  },
  {
   "cell_type": "code",
   "execution_count": null,
   "metadata": {
    "collapsed": true
   },
   "outputs": [],
   "source": [
    "target_prior_distribution"
   ]
  },
  {
   "cell_type": "markdown",
   "metadata": {},
   "source": [
    "# Attacks that are always true"
   ]
  },
  {
   "cell_type": "code",
   "execution_count": null,
   "metadata": {
    "collapsed": true
   },
   "outputs": [],
   "source": [
    "# Want to know what we are checking for. Want to check that some long standing patterns are captured. So if a particular\n",
    "# graph structure always holds true as well as the extension holding true.\n",
    "always_true = [[('a','c')]]"
   ]
  },
  {
   "cell_type": "code",
   "execution_count": 5,
   "metadata": {
    "collapsed": true
   },
   "outputs": [],
   "source": [
    "def check_attack_holds(pos_args, neg_args, always_true, graph):\n",
    "    \n",
    "    all_args = pos_args + neg_args\n",
    "    appropriate_graph = []\n",
    "    \n",
    "    for t in always_true:\n",
    "        \n",
    "        if t[0][0] not in all_args or t[0][1] not in all_args:\n",
    "            appropriate_graph.append(False)\n",
    "            continue\n",
    "            \n",
    "        attacker = all_args.index(t[0][0])\n",
    "        attacked = all_args.index(t[0][1])\n",
    "        \n",
    "        if len(t) == 1:\n",
    "            if graph[attacker, attacked] == 1 and graph[attacked, attacker] == 0:\n",
    "                appropriate_graph.append(True)\n",
    "            else:\n",
    "                appropriate_graph.append(False)\n",
    "            continue\n",
    "            \n",
    "        if len(t) == 2:\n",
    "            if graph[attacker, attacked] == 1 and graph[attacked, attacker] == 1:\n",
    "                appropriate_graph.append(True)\n",
    "            else:\n",
    "                appropriate_graph.append(False)\n",
    "            continue\n",
    "            \n",
    "    return all(appropriate_graph)"
   ]
  },
  {
   "cell_type": "code",
   "execution_count": 9,
   "metadata": {
    "collapsed": true
   },
   "outputs": [],
   "source": [
    "p_G_2args = prior(['a'], ['c'])\n",
    "p_G_2args_prior_distribution =  p_G_2args.getDistribution(target_distribution['rating'])\n",
    "\n",
    "p_G_3args = prior(['a','b'], ['c'])\n",
    "p_G_3args_prior_distribution =  p_G_3args.getDistribution(target_distribution['rating'])\n",
    "\n",
    "p_G_3args_2 = prior(['a','d'], ['c'])\n",
    "p_G_3args_2_prior_distribution =  p_G_3args_2.getDistribution(target_distribution['rating'])\n",
    "\n",
    "p_G_4args = prior(['a','d','b'], ['c'])\n",
    "p_G_4args_prior_distribution =  p_G_4args.getDistribution(target_distribution['rating'])"
   ]
  },
  {
   "cell_type": "code",
   "execution_count": 10,
   "metadata": {
    "collapsed": true
   },
   "outputs": [],
   "source": [
    "target_no_observations = 2\n",
    "\n",
    "all_p_g = [p_G_2args, p_G_3args, p_G_3args_2, p_G_4args]\n",
    "all_prior_distribs = [p_G_2args_prior_distribution, \n",
    "                     p_G_3args_prior_distribution,\n",
    "                     p_G_3args_2_prior_distribution,\n",
    "                     p_G_4args_prior_distribution]\n",
    "index_p_G_s = list(range(len(all_p_g)))"
   ]
  },
  {
   "cell_type": "code",
   "execution_count": null,
   "metadata": {
    "collapsed": true
   },
   "outputs": [],
   "source": [
    "target_distribution"
   ]
  },
  {
   "cell_type": "code",
   "execution_count": null,
   "metadata": {
    "collapsed": true
   },
   "outputs": [],
   "source": [
    "observations = []\n",
    "\n",
    "while len(observations) <=target_no_observations:\n",
    "    choice = random.choice(index_p_G_s)\n",
    "    chosen_prior = all_prior_distribs[choice]\n",
    "    \n",
    "    possible_graphs = []\n",
    "    possible_graphs_probabilities = []\n",
    "    for graph_no, graph in enumerate((all_p_g[choice]).arg_matrices):\n",
    "        if check_attack_holds(all_p_g[choice].pos_args, all_p_g[choice].neg_args, always_true, graph):            \n",
    "            possible_graphs.append(graph)\n",
    "            possible_graphs_probabilities.append(chosen_prior[graph_no])\n",
    "        \n",
    "    \n",
    "    possible_graphs_probabilities = possible_graphs_probabilities / np.sum(possible_graphs_probabilities)\n",
    "    \n",
    "    indices = list(range(len(possible_graphs_probabilities)))\n",
    "    custm = stats.rv_discrete(name='custm', values=(indices, possible_graphs_probabilities))\n",
    "    chosen_graph = custm.rvs(size=1)[0]\n",
    "    \n",
    "    \n",
    "    observation = {}\n",
    "    observation['pos_args'] = all_p_g[choice].pos_args\n",
    "    observation['neg_args'] = all_p_g[choice].neg_args\n",
    "    observation['attacks'] = utilities.convertArgMtrxToAttacks(observation['pos_args'], \n",
    "                                                               observation['neg_args'],\n",
    "                                                              possible_graphs[chosen_graph])\n",
    "    \n",
    "    observation['rating'] = 10\n",
    "    observations.append(observation)"
   ]
  },
  {
   "cell_type": "markdown",
   "metadata": {
    "collapsed": true
   },
   "source": [
    "# 3 arg target distribution"
   ]
  },
  {
   "cell_type": "code",
   "execution_count": 2,
   "metadata": {},
   "outputs": [
    {
     "ename": "NameError",
     "evalue": "name 'observations' is not defined",
     "output_type": "error",
     "traceback": [
      "\u001b[0;31m---------------------------------------------------------------------------\u001b[0m",
      "\u001b[0;31mNameError\u001b[0m                                 Traceback (most recent call last)",
      "\u001b[0;32m<ipython-input-2-bd57f7ef680a>\u001b[0m in \u001b[0;36m<module>\u001b[0;34m()\u001b[0m\n\u001b[1;32m     14\u001b[0m \u001b[0mcurrent_prior\u001b[0m \u001b[0;34m=\u001b[0m \u001b[0mtarget_prior_distribution\u001b[0m\u001b[0;34m\u001b[0m\u001b[0m\n\u001b[1;32m     15\u001b[0m \u001b[0;34m\u001b[0m\u001b[0m\n\u001b[0;32m---> 16\u001b[0;31m \u001b[0;32mfor\u001b[0m \u001b[0msynthetic_observation\u001b[0m \u001b[0;32min\u001b[0m \u001b[0mobservations\u001b[0m\u001b[0;34m:\u001b[0m\u001b[0;34m\u001b[0m\u001b[0m\n\u001b[0m\u001b[1;32m     17\u001b[0m \u001b[0;34m\u001b[0m\u001b[0m\n\u001b[1;32m     18\u001b[0m     \u001b[0mp_G_T\u001b[0m \u001b[0;34m=\u001b[0m \u001b[0mliklihood\u001b[0m\u001b[0;34m(\u001b[0m\u001b[0mp_G\u001b[0m\u001b[0;34m,\u001b[0m \u001b[0msynthetic_observation\u001b[0m\u001b[0;34m)\u001b[0m\u001b[0;34m\u001b[0m\u001b[0m\n",
      "\u001b[0;31mNameError\u001b[0m: name 'observations' is not defined"
     ]
    }
   ],
   "source": [
    "target_distribution = {}\n",
    "target_distribution['pos_args'] = ['a','b']\n",
    "target_distribution['neg_args'] = ['c']\n",
    "target_distribution['rating'] = 10\n",
    "\n",
    "p_G = prior(target_distribution['pos_args'], target_distribution['neg_args'])\n",
    "\n",
    "# generate the prior distribution\n",
    "target_prior_distribution = p_G.getDistribution(target_distribution['rating'])\n",
    "\n",
    "p_G.rating = 10\n",
    "all_updates_distribution = []\n",
    "\n",
    "current_prior = target_prior_distribution\n",
    "\n",
    "for synthetic_observation in observations:\n",
    "\n",
    "    p_G_T = liklihood(p_G, synthetic_observation)\n",
    "    liklihood_distribution = p_G_T.buildLiklihoodDistribution()\n",
    "    \n",
    "    p_T_G = posterior(current_prior, liklihood_distribution)\n",
    "    posterior_distribution = p_T_G.buildPosteriorDistribution()\n",
    "    \n",
    "    all_updates_distribution.append(posterior_distribution)\n",
    "    \n",
    "    current_prior = posterior_distribution"
   ]
  },
  {
   "cell_type": "code",
   "execution_count": null,
   "metadata": {
    "collapsed": true
   },
   "outputs": [],
   "source": [
    "# plot a bar chart"
   ]
  },
  {
   "cell_type": "code",
   "execution_count": null,
   "metadata": {
    "collapsed": true
   },
   "outputs": [],
   "source": [
    "b1 = target_prior_distribution\n",
    "b2 = current_prior\n",
    "x = np.array(list(range(16)))\n",
    "fig = plt.figure()\n",
    "plt.bar(left=x-0.2, width=0.2, height=b1 ,color='k', label='prior')\n",
    "plt.bar(left=x, width=0.2, height=b2, color='r', label = 'posterior')\n",
    "plt.xticks(list(range(16)),\n",
    "           [r'$a \\rightarrow b \\leftarrow c$',\n",
    "           r'$a \\rightarrow b \\leftrightarrow c$',\n",
    "           r'$a \\leftrightarrow b \\leftarrow c$',\n",
    "           r'$a \\quad b \\leftarrow c$',\n",
    "           r'$a \\rightarrow b \\quad c$',\n",
    "           r'$a \\leftarrow b \\leftarrow c$',\n",
    "           r'$a \\rightarrow b \\rightarrow c$',\n",
    "           r'$a \\quad b \\leftrightarrow c$',\n",
    "           r'$a \\leftrightarrow b \\quad c$',\n",
    "           r'$a \\quad b \\quad c$',\n",
    "           r'$a \\leftrightarrow b \\leftrightarrow c$',\n",
    "           r'$a \\leftarrow b \\leftrightarrow c$',\n",
    "           r'$a \\leftrightarrow b \\rightarrow c$',\n",
    "           r'$a \\quad b \\rightarrow c$',\n",
    "           r'$a \\leftarrow b \\quad c$',\n",
    "           r'$a \\leftarrow b \\rightarrow c$'], rotation='vertical')\n",
    "\n",
    "plt.ylabel('P(G)')\n",
    "plt.legend()\n",
    "plt.tight_layout()\n",
    "plt.show()\n",
    "fig.savefig('3_arg_full_consistent.png')"
   ]
  },
  {
   "cell_type": "code",
   "execution_count": null,
   "metadata": {
    "collapsed": true
   },
   "outputs": [],
   "source": [
    "current_prior"
   ]
  },
  {
   "cell_type": "code",
   "execution_count": null,
   "metadata": {
    "collapsed": true
   },
   "outputs": [],
   "source": [
    "target_distribution = {}\n",
    "target_distribution['pos_args'] = ['a']\n",
    "target_distribution['neg_args'] = ['c']\n",
    "target_distribution['rating'] = 10\n",
    "\n",
    "p_G = prior(target_distribution['pos_args'], target_distribution['neg_args'])\n",
    "\n",
    "# generate the prior distribution\n",
    "target_prior_distribution = p_G.getDistribution(target_distribution['rating'])\n",
    "\n",
    "p_G.rating = 10\n",
    "all_updates_distribution = []\n",
    "\n",
    "current_prior = target_prior_distribution\n",
    "\n",
    "for synthetic_observation in observations:\n",
    "\n",
    "    p_G_T = liklihood(p_G, synthetic_observation)\n",
    "    liklihood_distribution = p_G_T.buildLiklihoodDistribution()\n",
    "    \n",
    "    p_T_G = posterior(current_prior, liklihood_distribution)\n",
    "    posterior_distribution = p_T_G.buildPosteriorDistribution()\n",
    "    \n",
    "    all_updates_distribution.append(posterior_distribution)\n",
    "    \n",
    "    current_prior = posterior_distribution"
   ]
  },
  {
   "cell_type": "code",
   "execution_count": null,
   "metadata": {
    "collapsed": true
   },
   "outputs": [],
   "source": [
    "current_prior"
   ]
  },
  {
   "cell_type": "code",
   "execution_count": null,
   "metadata": {
    "collapsed": true
   },
   "outputs": [],
   "source": [
    "b1 = target_prior_distribution\n",
    "b2 = current_prior\n",
    "x = np.array(list(range(4)))\n",
    "fig = plt.figure()\n",
    "plt.bar(left=x-0.2, width=0.2, height=b1 ,color='k', label='prior')\n",
    "plt.bar(left=x, width=0.2, height=b2, color='r', label = 'posterior')\n",
    "plt.xticks(list(range(4)),\n",
    "           [r'$a \\rightarrow b$',\n",
    "           r'$a \\leftrightarrow b$',\n",
    "           r'$a \\quad b$',\n",
    "           r'$a \\leftarrow b$'], rotation='vertical')\n",
    "\n",
    "plt.ylabel('P(G)')\n",
    "plt.legend()\n",
    "plt.tight_layout()\n",
    "plt.show()\n",
    "fig.savefig('2_arg_full_consistent.png')"
   ]
  },
  {
   "cell_type": "markdown",
   "metadata": {},
   "source": [
    "# Run experiment and see how well we capture attacks which appear with varying degrees of "
   ]
  },
  {
   "cell_type": "code",
   "execution_count": 3,
   "metadata": {
    "collapsed": true
   },
   "outputs": [],
   "source": [
    "always_true = [[('a','c')],[('c', 'b')]]\n",
    "degree_of_appearance = [0] # means it appears 60 % of the time"
   ]
  },
  {
   "cell_type": "code",
   "execution_count": 4,
   "metadata": {
    "collapsed": true
   },
   "outputs": [],
   "source": [
    "def generateSyntheticObservations(target_no_observations, all_p_g, all_prior_distribs, degree_of_appearance, always_true):\n",
    "\n",
    "    observations = []\n",
    "    index_p_G_s = list(range(len(all_p_g)))\n",
    "\n",
    "    while len(observations) < target_no_observations:\n",
    "        choice = random.choice(index_p_G_s) # choose an index from the list, index corresponds to one of the graph spaces\n",
    "        chosen_prior = all_prior_distribs[choice] # store the prior for the graph space\n",
    "\n",
    "\n",
    "        possible_graphs = []\n",
    "        possible_graphs_probabilities = []\n",
    "\n",
    "        appear_draw = random.uniform(0, 1)\n",
    "        if appear_draw <= degree_of_appearance:\n",
    "            for graph_no, graph in enumerate((all_p_g[choice]).arg_matrices):\n",
    "                result = check_attack_holds(all_p_g[choice].pos_args, all_p_g[choice].neg_args, always_true, graph)\n",
    "                if result:            \n",
    "                    possible_graphs.append(graph)\n",
    "                    possible_graphs_probabilities.append(chosen_prior[graph_no])\n",
    "\n",
    "            if len(possible_graphs) ==0:\n",
    "                continue\n",
    "            possible_graphs_probabilities = possible_graphs_probabilities / np.sum(possible_graphs_probabilities)\n",
    "\n",
    "        else:\n",
    "            possible_graphs = (all_p_g[choice]).arg_matrices\n",
    "            possible_graphs_probabilities = chosen_prior\n",
    "\n",
    "\n",
    "        indices = list(range(len(possible_graphs_probabilities)))\n",
    "        custm = stats.rv_discrete(name='custm', values=(indices, possible_graphs_probabilities))\n",
    "        chosen_graph = custm.rvs(size=1)[0]\n",
    "\n",
    "        observation = {}\n",
    "        observation['pos_args'] = all_p_g[choice].pos_args\n",
    "        observation['neg_args'] = all_p_g[choice].neg_args\n",
    "        observation['attacks'] = utilities.convertArgMtrxToAttacks(observation['pos_args'], \n",
    "                                                                   observation['neg_args'],\n",
    "                                                                  possible_graphs[chosen_graph])\n",
    "\n",
    "        observation['rating'] = 10\n",
    "\n",
    "        observations.append(observation)\n",
    "        \n",
    "\n",
    "    return observations\n",
    "    "
   ]
  },
  {
   "cell_type": "code",
   "execution_count": null,
   "metadata": {
    "collapsed": true
   },
   "outputs": [],
   "source": [
    "observations = generateSyntheticObservations(50, all_p_g, all_prior_distribs, 1, always_true)"
   ]
  },
  {
   "cell_type": "code",
   "execution_count": null,
   "metadata": {
    "collapsed": true
   },
   "outputs": [],
   "source": [
    "target_distribution = {}\n",
    "target_distribution['pos_args'] = ['a','b']\n",
    "target_distribution['neg_args'] = ['c']\n",
    "target_distribution['rating'] = 10\n",
    "\n",
    "p_G = prior(target_distribution['pos_args'], target_distribution['neg_args'])\n",
    "\n",
    "# generate the prior distribution\n",
    "target_prior_distribution = p_G.getDistribution(target_distribution['rating'])\n",
    "\n",
    "p_G.rating = 10\n",
    "all_updates_distribution = []\n",
    "\n",
    "current_prior = target_prior_distribution\n",
    "\n",
    "for synthetic_observation in observations[0:50]:\n",
    "\n",
    "    p_G_T = liklihood(p_G, synthetic_observation)\n",
    "    liklihood_distribution = p_G_T.buildLiklihoodDistribution()\n",
    "    \n",
    "    p_T_G = posterior(current_prior, liklihood_distribution)\n",
    "    posterior_distribution = p_T_G.buildPosteriorDistribution()\n",
    "    \n",
    "    all_updates_distribution.append(posterior_distribution)\n",
    "    \n",
    "    current_prior = posterior_distribution\n",
    "    \n",
    "    \n",
    "b1 = target_prior_distribution\n",
    "b2 = current_prior\n",
    "x = np.array(list(range(16)))\n",
    "fig = plt.figure()\n",
    "plt.bar(left=x-0.2, width=0.2, height=b1 ,color='k', label='prior')\n",
    "plt.bar(left=x, width=0.2, height=b2, color='r', label = 'posterior')\n",
    "plt.xticks(list(range(16)),\n",
    "           [r'$a \\rightarrow b \\leftarrow c$',\n",
    "           r'$a \\rightarrow b \\leftrightarrow c$',\n",
    "           r'$a \\leftrightarrow b \\leftarrow c$',\n",
    "           r'$a \\quad b \\leftarrow c$',\n",
    "           r'$a \\rightarrow b \\quad c$',\n",
    "           r'$a \\leftarrow b \\leftarrow c$',\n",
    "           r'$a \\rightarrow b \\rightarrow c$',\n",
    "           r'$a \\quad b \\leftrightarrow c$',\n",
    "           r'$a \\leftrightarrow b \\quad c$',\n",
    "           r'$a \\quad b \\quad c$',\n",
    "           r'$a \\leftrightarrow b \\leftrightarrow c$',\n",
    "           r'$a \\leftarrow b \\leftrightarrow c$',\n",
    "           r'$a \\leftrightarrow b \\rightarrow c$',\n",
    "           r'$a \\quad b \\rightarrow c$',\n",
    "           r'$a \\leftarrow b \\quad c$',\n",
    "           r'$a \\leftarrow b \\rightarrow c$'], rotation='vertical')\n",
    "\n",
    "plt.ylabel('P(G)')\n",
    "plt.legend()\n",
    "plt.tight_layout()\n",
    "plt.show()\n",
    "fig.savefig('3_arg_full_consistent_6.png')"
   ]
  },
  {
   "cell_type": "code",
   "execution_count": 340,
   "metadata": {
    "collapsed": true
   },
   "outputs": [],
   "source": [
    "graph_probabilities_dict = {}"
   ]
  },
  {
   "cell_type": "code",
   "execution_count": 341,
   "metadata": {},
   "outputs": [],
   "source": [
    "noObservations = 25\n",
    "appearance = 0.8\n",
    "graph_probabilities = []\n",
    "for i in range(150):\n",
    "    observations = generateSyntheticObservations(noObservations, all_p_g, all_prior_distribs, appearance, always_true)\n",
    "\n",
    "    target_distribution = {}\n",
    "    target_distribution['pos_args'] = ['a','b']\n",
    "    target_distribution['neg_args'] = ['c']\n",
    "    target_distribution['rating'] = 10\n",
    "\n",
    "    p_G = prior(target_distribution['pos_args'], target_distribution['neg_args'])\n",
    "\n",
    "    # generate the prior distribution\n",
    "    target_prior_distribution = p_G.getDistribution(target_distribution['rating'])\n",
    "\n",
    "    p_G.rating = 10\n",
    "    all_updates_distribution = []\n",
    "\n",
    "    current_prior = target_prior_distribution\n",
    "\n",
    "    for synthetic_observation in observations:\n",
    "\n",
    "        p_G_T = liklihood(p_G, synthetic_observation)\n",
    "        liklihood_distribution = p_G_T.buildLiklihoodDistribution()\n",
    "\n",
    "        p_T_G = posterior(current_prior, liklihood_distribution)\n",
    "        posterior_distribution = p_T_G.buildPosteriorDistribution()\n",
    "\n",
    "        all_updates_distribution.append(posterior_distribution)\n",
    "\n",
    "        current_prior = posterior_distribution\n",
    "\n",
    "\n",
    "    graph_probabilities.append(current_prior[6])\n",
    "\n"
   ]
  },
  {
   "cell_type": "code",
   "execution_count": 335,
   "metadata": {
    "collapsed": true
   },
   "outputs": [],
   "source": [
    "graph_probabilities_dict[int(appearance*10)] = graph_probabilities"
   ]
  },
  {
   "cell_type": "code",
   "execution_count": 336,
   "metadata": {
    "scrolled": true
   },
   "outputs": [
    {
     "data": {
      "image/png": "[encoded data removed]",
      "text/plain": [
       "<matplotlib.figure.Figure at 0x1a11cc2748>"
      ]
     },
     "metadata": {},
     "output_type": "display_data"
    }
   ],
   "source": [
    "h = sorted(graph_probabilities_dict[int(appearance*10)])  #sorted\n",
    "fit = stats.norm.pdf(h, np.mean(h), np.std(h))  #this is a fitting indeed\n",
    "\n",
    "plt.plot(h,fit)\n",
    "      #use this to draw histogram of your data\n",
    "\n",
    "    \n",
    "plt.show()"
   ]
  },
  {
   "cell_type": "code",
   "execution_count": 337,
   "metadata": {},
   "outputs": [
    {
     "data": {
      "image/png": "[encoded data removed]",
      "text/plain": [
       "<matplotlib.figure.Figure at 0x1a11f7d208>"
      ]
     },
     "metadata": {},
     "output_type": "display_data"
    }
   ],
   "source": [
    "fig = plt.figure()\n",
    "\n",
    "plt.xlabel('P(G)')\n",
    "\n",
    "for key, item in graph_probabilities_dict.items():\n",
    "    if key == 0:\n",
    "        continue \n",
    "    if not (key/2).is_integer():\n",
    "        continue\n",
    "    h = sorted(item)\n",
    "\n",
    "    fit = stats.norm.pdf(h, np.mean(h), np.std(h))  #this is a fitting indeed\n",
    "\n",
    "    noise_level = round(1 - key/10, 1)\n",
    "    \n",
    "    plt.plot(h,fit, label='noise='+ str(noise_level))\n",
    "      #use this to draw histogram of your data\n",
    "    plt.legend()\n",
    "plt.show()"
   ]
  },
  {
   "cell_type": "code",
   "execution_count": 338,
   "metadata": {
    "collapsed": true
   },
   "outputs": [],
   "source": [
    "fig.savefig('big_simulations_evennoises_25observations_150trials.jpeg')"
   ]
  },
  {
   "cell_type": "code",
   "execution_count": 255,
   "metadata": {},
   "outputs": [
    {
     "data": {
      "text/plain": [
       "{1: [0.010079824147044175,\n",
       "  0.0228948422233452,\n",
       "  0.0027297027567565247,\n",
       "  0.08740234232867028,\n",
       "  0.2037761242496201,\n",
       "  0.009821706111044834,\n",
       "  0.03154905200091744,\n",
       "  0.060080905076898714,\n",
       "  0.023401059269937952,\n",
       "  0.01569938230972048,\n",
       "  0.13374933425584426,\n",
       "  0.001631184541132564,\n",
       "  0.2143833849024954,\n",
       "  0.08307941264033213,\n",
       "  0.044169273684777605,\n",
       "  0.16000730393255624,\n",
       "  0.04380778013202786,\n",
       "  0.013933419535666321,\n",
       "  0.02142049583678199,\n",
       "  0.0472421975588401,\n",
       "  0.03654557079057574,\n",
       "  0.0055149290379320134,\n",
       "  0.09478797062241479,\n",
       "  0.0318927928536235,\n",
       "  0.22568930090235653,\n",
       "  0.0013722479796640435,\n",
       "  0.08870362402792914,\n",
       "  0.00954827111365276,\n",
       "  0.019452722978568964,\n",
       "  0.021364846161455214,\n",
       "  0.07369485509261604,\n",
       "  0.30178371340315885,\n",
       "  0.014337417699126073,\n",
       "  0.13293956396616138,\n",
       "  0.1162171868691922,\n",
       "  0.06442582054976796,\n",
       "  0.3145138517254528,\n",
       "  0.14240377386266762,\n",
       "  0.026997811023351415,\n",
       "  0.012858506369686006,\n",
       "  0.07327362339312375,\n",
       "  0.011966939662813422,\n",
       "  0.05563082455975437,\n",
       "  0.10571041568340013,\n",
       "  0.014953997830634039,\n",
       "  0.061757165729621616,\n",
       "  0.011012315049370192,\n",
       "  0.002193453676019193,\n",
       "  0.02291482166318096,\n",
       "  0.003197503236763225,\n",
       "  0.5317596444224205,\n",
       "  0.048388957206033915,\n",
       "  0.004589442955380326,\n",
       "  0.006300780833342624,\n",
       "  0.10419673363424267,\n",
       "  0.4101209632835655,\n",
       "  0.0030945813625997787,\n",
       "  0.04632081495688975,\n",
       "  0.002933827877268165,\n",
       "  0.04053693304439711,\n",
       "  0.0025430228965150803,\n",
       "  0.46509546897302667,\n",
       "  0.008030091685969937,\n",
       "  0.00273038613202336,\n",
       "  0.016449891772013125,\n",
       "  0.1854852473283221,\n",
       "  0.0018322847618386763,\n",
       "  0.08056165315194382,\n",
       "  0.2910284668796806,\n",
       "  0.1800338903342266,\n",
       "  0.41002227313338396,\n",
       "  0.3248192737234308,\n",
       "  0.28308537897683755,\n",
       "  0.02366652264114326,\n",
       "  0.16087776749836746,\n",
       "  0.08454616453720253,\n",
       "  0.005179722921186369,\n",
       "  0.005644629089543677,\n",
       "  0.04234146184734461,\n",
       "  0.005946785994471397,\n",
       "  0.011647753358629762,\n",
       "  0.0010916347284660318,\n",
       "  0.17144605197455923,\n",
       "  0.05295095531632555,\n",
       "  0.004684589305807107,\n",
       "  0.002725512453452696,\n",
       "  0.043962798881540255,\n",
       "  0.018244293954873467,\n",
       "  0.03374082806018793,\n",
       "  0.1410202919867069,\n",
       "  0.10996676268706418,\n",
       "  0.050439593043266076,\n",
       "  0.018874674188165488,\n",
       "  0.06719640325805055,\n",
       "  0.003338353469757059,\n",
       "  0.041840108892351575,\n",
       "  0.03646753305928986,\n",
       "  0.0014742835735025055,\n",
       "  0.12526977983532855,\n",
       "  0.014949110182745176,\n",
       "  0.11326837159104321,\n",
       "  0.047631532036617644,\n",
       "  0.028304958211409804,\n",
       "  0.8774912399340484,\n",
       "  0.00837297994352837,\n",
       "  0.05810783464774553,\n",
       "  0.008700511397762947,\n",
       "  0.014534481998378417,\n",
       "  0.14492095065388905,\n",
       "  0.009490338447380559,\n",
       "  0.013629047249595806,\n",
       "  0.07044858682925495,\n",
       "  0.014158646874172467,\n",
       "  0.013615084092180436,\n",
       "  0.0018700946034403967,\n",
       "  0.00453985671595102,\n",
       "  0.07422894908927222,\n",
       "  0.04489695107195751,\n",
       "  0.03833256989131014,\n",
       "  0.03316911271513558,\n",
       "  0.05764264880590566,\n",
       "  0.10925550944255256,\n",
       "  0.047079900167414375,\n",
       "  0.032060539899577495,\n",
       "  0.006271905516501176,\n",
       "  0.002248097477345951,\n",
       "  0.0014817080850822665,\n",
       "  0.004922795563425097,\n",
       "  0.049792873420267454,\n",
       "  0.00530685365396593,\n",
       "  0.012186775240582162,\n",
       "  0.0033391209152134668,\n",
       "  0.02949060645644988,\n",
       "  0.03756639487443922,\n",
       "  0.0013237010299169477,\n",
       "  0.2281767235715711,\n",
       "  0.015029750956201616,\n",
       "  0.021001798302983862,\n",
       "  0.08812037310193753,\n",
       "  0.009972014295605047,\n",
       "  0.13650797174808657,\n",
       "  0.005221018317604596,\n",
       "  0.2988259877552011,\n",
       "  0.04431019839580443,\n",
       "  0.021437235512944845,\n",
       "  0.013126445967023188,\n",
       "  0.09320709801748546,\n",
       "  0.09869316765085831,\n",
       "  0.029917424940002064,\n",
       "  0.00904260734730429]}"
      ]
     },
     "execution_count": 255,
     "metadata": {},
     "output_type": "execute_result"
    }
   ],
   "source": [
    "graph_probabilities_dict"
   ]
  },
  {
   "cell_type": "code",
   "execution_count": null,
   "metadata": {
    "collapsed": true,
    "scrolled": false
   },
   "outputs": [],
   "source": [
    "import json\n",
    "\n",
    "with open('simulations.json', 'w') as fp:\n",
    "    json.dump(graph_probabilities_dict, fp)"
   ]
  },
  {
   "cell_type": "code",
   "execution_count": null,
   "metadata": {
    "collapsed": true
   },
   "outputs": [],
   "source": [
    "with open('simulations.json', 'r') as fp:\n",
    "    data = json.load(fp)"
   ]
  },
  {
   "cell_type": "markdown",
   "metadata": {
    "collapsed": true
   },
   "source": [
    "# Diagrams for Paper 1"
   ]
  },
  {
   "cell_type": "code",
   "execution_count": null,
   "metadata": {
    "collapsed": true
   },
   "outputs": [],
   "source": []
  },
  {
   "cell_type": "code",
   "execution_count": null,
   "metadata": {
    "collapsed": true
   },
   "outputs": [],
   "source": [
    "agg_distances = np.array([0,\n",
    "                1,\n",
    "                0,\n",
    "                0,\n",
    "                0,\n",
    "                1,\n",
    "                0,\n",
    "                0,\n",
    "                1,\n",
    "                1,\n",
    "                0,\n",
    "                1,\n",
    "                0,\n",
    "                1,\n",
    "                1,\n",
    "                1,\n",
    "                1,\n",
    "                0,\n",
    "                2,\n",
    "                1,\n",
    "                0,\n",
    "                0,\n",
    "                4,\n",
    "                0,\n",
    "                1,\n",
    "                4,\n",
    "                0,\n",
    "                3,\n",
    "                2])\n",
    "\n",
    "probabilities = np.array([0,\n",
    "                          2,\n",
    "                          0,\n",
    "                          0,\n",
    "                          0,\n",
    "                          16,\n",
    "                          0,\n",
    "                          0,\n",
    "                          3,\n",
    "                          13,\n",
    "                          0,\n",
    "                          8,\n",
    "                          0,\n",
    "                          8,\n",
    "                          20,\n",
    "                          7,\n",
    "                          7,\n",
    "                          0,\n",
    "                          10,\n",
    "                          2,\n",
    "                          0,\n",
    "                          0,\n",
    "                          1,\n",
    "                          0,\n",
    "                          1,\n",
    "                          4,\n",
    "                          0,\n",
    "                          1,\n",
    "                          0])\n",
    "\n",
    "probabilities = probabilities/100"
   ]
  },
  {
   "cell_type": "code",
   "execution_count": null,
   "metadata": {
    "collapsed": true
   },
   "outputs": [],
   "source": [
    "hamms = [1,\n",
    "        0,\n",
    "        0,\n",
    "        0,\n",
    "        1,]"
   ]
  },
  {
   "cell_type": "code",
   "execution_count": 94,
   "metadata": {},
   "outputs": [
    {
     "data": {
      "text/plain": [
       "[('a', 'c'), ('c', 'b')]"
      ]
     },
     "execution_count": 94,
     "metadata": {},
     "output_type": "execute_result"
    }
   ],
   "source": [
    "set(observations[0]['attacks'])\n",
    "[a[0] for a in always_true]"
   ]
  },
  {
   "cell_type": "code",
   "execution_count": null,
   "metadata": {
    "collapsed": true
   },
   "outputs": [],
   "source": [
    "len(probabilities)"
   ]
  },
  {
   "cell_type": "code",
   "execution_count": null,
   "metadata": {
    "collapsed": true
   },
   "outputs": [],
   "source": [
    "x = np.array(list(range(len(agg_distances))))\n",
    "# s1 = np.sin(2 * np.pi * t)\n",
    "# s2 = np.exp(-t)\n",
    "fig, axs = plt.subplots(2, 1, sharex=True, figsize=(8, 3))\n",
    "# Remove horizontal space between axes\n",
    "fig.subplots_adjust(hspace=0.1)\n",
    "\n",
    "# Plot each graph, and manually set the y tick values\n",
    "axs[0].bar(left=x,height=agg_distances, width=0.3, label=r'$|\\mathsf{Agg}(G) - \\mathsf{Agg}(\\hat{G})| \\times \\frac{1}{\\Delta Att}$')\n",
    "axs[0].legend(loc=\"upper left\")\n",
    "\n",
    "axs[1].bar(left=x,height=probabilities, width=0.3, color='r' ,label=r'$|P(G)-P(\\hat{G})|$')\n",
    "axs[1].legend(loc=\"upper left\")\n",
    "\n",
    "plt.xticks(x)\n",
    "plt.show()\n",
    "\n",
    "fig.savefig('experiment_summary.png')"
   ]
  },
  {
   "cell_type": "code",
   "execution_count": null,
   "metadata": {
    "collapsed": true
   },
   "outputs": [],
   "source": [
    "!ls"
   ]
  },
  {
   "cell_type": "code",
   "execution_count": 33,
   "metadata": {
    "collapsed": true
   },
   "outputs": [],
   "source": []
  },
  {
   "cell_type": "code",
   "execution_count": null,
   "metadata": {
    "collapsed": true
   },
   "outputs": [],
   "source": []
  },
  {
   "cell_type": "code",
   "execution_count": 57,
   "metadata": {},
   "outputs": [
    {
     "ename": "IndexError",
     "evalue": "index 900 is out of bounds for axis 0 with size 150",
     "output_type": "error",
     "traceback": [
      "\u001b[0;31m---------------------------------------------------------------------------\u001b[0m",
      "\u001b[0;31mIndexError\u001b[0m                                Traceback (most recent call last)",
      "\u001b[0;32m<ipython-input-57-899f3ab28eae>\u001b[0m in \u001b[0;36m<module>\u001b[0;34m()\u001b[0m\n\u001b[0;32m----> 1\u001b[0;31m \u001b[0mfit\u001b[0m\u001b[0;34m.\u001b[0m\u001b[0mcumsum\u001b[0m\u001b[0;34m(\u001b[0m\u001b[0;34m)\u001b[0m\u001b[0;34m[\u001b[0m\u001b[0;36m900\u001b[0m\u001b[0;34m]\u001b[0m\u001b[0;34m\u001b[0m\u001b[0m\n\u001b[0m",
      "\u001b[0;31mIndexError\u001b[0m: index 900 is out of bounds for axis 0 with size 150"
     ]
    }
   ],
   "source": [
    "fit.cumsum()[900]"
   ]
  },
  {
   "cell_type": "code",
   "execution_count": null,
   "metadata": {
    "collapsed": true
   },
   "outputs": [],
   "source": [
    "scipy.stats.norm(0, 1).pdf(0)"
   ]
  },
  {
   "cell_type": "code",
   "execution_count": null,
   "metadata": {
    "collapsed": true
   },
   "outputs": [],
   "source": [
    "stats.norm(0, 1)dd"
   ]
  },
  {
   "cell_type": "code",
   "execution_count": 44,
   "metadata": {},
   "outputs": [
    {
     "data": {
      "text/plain": [
       "[1.4913143758792117e-05,\n",
       " 2.2235367056029284e-07,\n",
       " 0.0005464781814768962,\n",
       " 0.0004924947735694501,\n",
       " 0.00012868387101531726,\n",
       " 1.1431800669266425e-07,\n",
       " 8.046842013790496e-06,\n",
       " 2.471458921540744e-08,\n",
       " 3.975537206472785e-05,\n",
       " 6.713629163940735e-08,\n",
       " 3.296393600774172e-07,\n",
       " 0.0005560639691923066,\n",
       " 4.108418008656976e-06,\n",
       " 0.0006426722362315618,\n",
       " 3.70218619225018e-09,\n",
       " 0.0018847925873243456,\n",
       " 0.003300421813348656,\n",
       " 0.00030602628446003315,\n",
       " 0.0023880466720816907,\n",
       " 4.037035620802453e-06,\n",
       " 0.000878451170387018,\n",
       " 0.007081937133874659,\n",
       " 0.0013549168740958066,\n",
       " 1.2125823118109425e-05,\n",
       " 1.2341070307189475e-07,\n",
       " 2.713244637287414e-06,\n",
       " 0.00030577848231041604,\n",
       " 1.0331521727117878e-05,\n",
       " 0.00437337931239228,\n",
       " 2.8649725679584667e-07,\n",
       " 2.157566206488054e-05,\n",
       " 0.005258453829522051,\n",
       " 8.48531489650021e-07,\n",
       " 0.009985316011718053,\n",
       " 0.0001707013987556524,\n",
       " 3.671149306638443e-06,\n",
       " 6.841107824717106e-05,\n",
       " 0.00016604149981788624,\n",
       " 0.0002459250894459463,\n",
       " 1.3919663848957796e-05,\n",
       " 0.0010018406249588303,\n",
       " 0.0005995131156997728,\n",
       " 0.00022177841308663483,\n",
       " 1.537528575760214e-07,\n",
       " 3.520061976884161e-06,\n",
       " 2.469455400946611e-08,\n",
       " 2.006664886062114e-05,\n",
       " 7.172710543699643e-05,\n",
       " 3.670840393382582e-05,\n",
       " 0.0005203917201523399,\n",
       " 0.017642609264060905,\n",
       " 0.000920722587529642,\n",
       " 3.98959921358795e-06,\n",
       " 0.008582882153279466,\n",
       " 0.009911233558044373,\n",
       " 0.0021852247416154894,\n",
       " 1.4038345063410943e-06,\n",
       " 0.0021503348334079853,\n",
       " 4.715832863032339e-06,\n",
       " 2.473433718315203e-08,\n",
       " 0.00037395079338628214,\n",
       " 2.668218596320315e-07,\n",
       " 7.488209278040324e-06,\n",
       " 0.0013515682153105906,\n",
       " 7.454170121466563e-05,\n",
       " 0.0006300085600595375,\n",
       " 0.0001103426452145244,\n",
       " 0.02824764032514872,\n",
       " 0.0015023005404590493,\n",
       " 0.007637063761472968,\n",
       " 0.00025257217554531055,\n",
       " 3.605258593528484e-08,\n",
       " 0.0003218806869481317,\n",
       " 6.126547952402582e-06,\n",
       " 1.6771653613237797e-06,\n",
       " 0.004408426026079293,\n",
       " 0.0007499313597680561,\n",
       " 3.322731965993585e-06,\n",
       " 3.8573830758475946e-05,\n",
       " 6.498005873839494e-06,\n",
       " 1.6004216041420707e-06,\n",
       " 4.186184098696845e-07,\n",
       " 1.6280336315150083e-05,\n",
       " 6.783406361162508e-07,\n",
       " 7.2044137232031896e-06,\n",
       " 0.00011644792241960124,\n",
       " 3.4113569668780556e-08,\n",
       " 7.290485165110332e-05,\n",
       " 5.272930007211559e-08,\n",
       " 1.8376943623379577e-08,\n",
       " 3.969390267530749e-05,\n",
       " 3.138474146122158e-05,\n",
       " 8.666005416958966e-05,\n",
       " 4.458911791906539e-06,\n",
       " 0.00010317360242181917,\n",
       " 1.2622843677797955e-05,\n",
       " 1.7199537376886715e-05,\n",
       " 3.062817598564555e-05,\n",
       " 1.147622103308245e-07,\n",
       " 0.00038383482570229706,\n",
       " 3.958242229309372e-09,\n",
       " 0.0002433780383677144,\n",
       " 7.993864195954095e-07,\n",
       " 1.3071055637002664e-06,\n",
       " 4.359986015223794e-05,\n",
       " 0.0003763195382859126,\n",
       " 6.14270047017732e-07,\n",
       " 0.00015344527889744067,\n",
       " 3.394621862501847e-05,\n",
       " 9.195929461149082e-06,\n",
       " 3.029056158229487e-05,\n",
       " 8.486408490003264e-07,\n",
       " 5.596746263007102e-06,\n",
       " 0.001523897344941105,\n",
       " 7.51434194064104e-06,\n",
       " 5.3374065738799876e-05,\n",
       " 7.595434302581734e-05,\n",
       " 9.085635191868739e-05,\n",
       " 1.3452560070996673e-05,\n",
       " 2.375292194505505e-06,\n",
       " 7.167777972909684e-07,\n",
       " 8.82361506588846e-05,\n",
       " 3.6558331866625027e-06,\n",
       " 1.3301098868385222e-06,\n",
       " 6.464838900655596e-06,\n",
       " 6.040909199860594e-05,\n",
       " 0.0065104165510327175,\n",
       " 0.004425762096662489,\n",
       " 2.1989352823634504e-05,\n",
       " 1.4796747659938372e-07,\n",
       " 1.7433740251844878e-06,\n",
       " 0.0002961761600817565,\n",
       " 0.0008603204154972624,\n",
       " 3.3308902971768923e-06,\n",
       " 0.0003253567953960583,\n",
       " 0.28389922076548013,\n",
       " 0.0013814929470472867,\n",
       " 0.0001353523921612986,\n",
       " 0.0008345242013616133,\n",
       " 0.0001120442669731782,\n",
       " 1.0437407347473533e-06,\n",
       " 0.001071056777632951,\n",
       " 5.5570954289446514e-06,\n",
       " 0.0003127452792003365,\n",
       " 0.0053283357748651035,\n",
       " 3.7018585754500056e-06,\n",
       " 1.3211556710289278e-07,\n",
       " 0.0001357786788593455,\n",
       " 5.123354079377082e-07,\n",
       " 1.4490492153717765e-05]"
      ]
     },
     "execution_count": 44,
     "metadata": {},
     "output_type": "execute_result"
    }
   ],
   "source": [
    "graph_probabilities"
   ]
  }
 ],
 "metadata": {
  "kernelspec": {
   "display_name": "Python 3",
   "language": "python",
   "name": "python3"
  },
  "language_info": {
   "codemirror_mode": {
    "name": "ipython",
    "version": 3
   },
   "file_extension": ".py",
   "mimetype": "text/x-python",
   "name": "python",
   "nbconvert_exporter": "python",
   "pygments_lexer": "ipython3",
   "version": "3.6.1"
  }
 },
 "nbformat": 4,
 "nbformat_minor": 2
}
